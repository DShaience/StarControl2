{
 "cells": [
  {
   "cell_type": "code",
   "execution_count": 1,
   "metadata": {
    "collapsed": true
   },
   "outputs": [],
   "source": [
    "import pandas as pd\n",
    "import io, os , sys, types"
   ]
  },
  {
   "cell_type": "code",
   "execution_count": 2,
   "metadata": {
    "collapsed": true
   },
   "outputs": [],
   "source": [
    "def value_of_roman_letter(ch):\n",
    "    \"\"\"Return the value associated with a single Roman numeral letter.\"\"\"\n",
    "    \"\"\"Doesn't check for validity (e.g., IIIIV for example, is invalid)\"\"\"\n",
    "    letterValues = {\n",
    "        'M': 1000,\n",
    "        'D': 500,\n",
    "        'C': 100,\n",
    "        'L': 50,\n",
    "        'X': 10,\n",
    "        'V': 5,\n",
    "        'I': 1  }\n",
    "    try:\n",
    "        return letterValues[ch.upper()]\n",
    "    except KeyError:\n",
    "        print(\"error: invalid Roman numeral character '{%s}'\\n\" % ch)\n",
    "        sys.exit(1)\n",
    "\n",
    "def int_from_roman_numeral(s):\n",
    "    \"\"\"Return the integer value of the given Roman numeral string.\"\"\"\n",
    "    result = 0\n",
    "    lastValue = sys.maxsize\n",
    "    for ch in s:\n",
    "        value = value_of_roman_letter(ch)\n",
    "        if value > lastValue:\n",
    "            # We've found something like \"IV\" or \"IX\"\n",
    "            # or \"XC\".  Need to undo the addition\n",
    "            # of the previous value, then add\n",
    "            # (value - lastValue) to the result.\n",
    "            result += value - 2 * lastValue\n",
    "        else:\n",
    "            result += value\n",
    "        lastValue = value\n",
    "    return result\n",
    "\n",
    "def convert_RomanNumerals_Column_to_Int(df, colName):\n",
    "    return df[colName].apply(int_from_roman_numeral)\n",
    "\n",
    "def letters_to_numbers(ch):\n",
    "    \"\"\"Convert letter to letter number in the alphabet (a is 1, b is 2, and so on)\"\"\"\n",
    "    if ch is None:\n",
    "        return None\n",
    "    \n",
    "    ch = ch.lower()\n",
    "    if ch.isalpha():\n",
    "        return int(ord(ch)-97)\n",
    "    else:\n",
    "        return None\n",
    "    \n",
    "def calc_PlanetNumber_and_isMoon(df, col_planet, cols_output_list):\n",
    "    \"\"\"Converts planet designation to numbers \"\"\"\n",
    "    \"\"\"Adds isMoon column. True if planet is a moon\"\"\"\n",
    "    \"\"\"Returns: dataframe [PlanetNumber, isMoon]\"\"\"\n",
    "    \n",
    "    if len(cols_output_list) is not 2:\n",
    "        print(\"Warning: output column names must be a list of 2 names. Returning None\")\n",
    "        return None\n",
    "    \n",
    "    col_planet_num = cols_output_list[0]\n",
    "    col_ismoon = cols_output_list[1]\n",
    "    \"\"\"Convert Planet designations to numerical values\"\"\"\n",
    "    \"\"\"Create feature: isMoon. Then drop Moon-Number\"\"\"\n",
    "    planets_numeric = convert_planet_to_planet_moon(df, col_planet, [col_planet_num, 'MoonNumber'])\n",
    "    planets_numeric[col_ismoon] = isMoon(planets_numeric, 'MoonNumber')\n",
    "    planets_numeric.drop(['MoonNumber'], axis=1, inplace=True)\n",
    "    \n",
    "    return planets_numeric\n",
    "    \n",
    "def convert_moonDesignations_to_int(df, colName):\n",
    "    return df[colName].apply(letters_to_numbers)\n",
    "\n",
    "def convert_planet_to_planet_moon(df, colName, cols_output_list):\n",
    "    \"\"\"Converts a column with planet notation III-a, V-b, etc., to two columns [roman numeral, moon number] \"\"\"\n",
    "    \"\"\"It then converts both the roman numerals and moon designation to integers\"\"\"\n",
    "    \"\"\"For example V-a would become [5, 1]\"\"\"\n",
    "    if len(cols_output_list) is not 2:\n",
    "        print(\"Warning: output column names must be a list of 2 names. Returning None\")\n",
    "        return None\n",
    "    else:\n",
    "        new_df = pd.DataFrame(df[colName].str.split('-',1).tolist(), columns = cols_output_list)\n",
    "        new_df[cols_output_list[0]] = convert_RomanNumerals_Column_to_Int(new_df, cols_output_list[0])\n",
    "        new_df[cols_output_list[1]] = convert_moonDesignations_to_int(new_df, cols_output_list[1])\n",
    "        return new_df\n",
    "    \n",
    "def resource_to_discrete_value(series, thr):\n",
    "    \"\"\"Maps planet resource value to discrete value (0 = low, 1 = high) \"\"\"\n",
    "    data_class_mapped = series.map(lambda x: x > thr )\n",
    "    data_class_mapped.replace(True, 1, inplace=True)\n",
    "    return data_class_mapped\n",
    "\n",
    "def isMoon(df, col_moon):\n",
    "    \"\"\"Returns 1 when col_moon is not None\"\"\"\n",
    "    df_ismoon = ~df[col_moon].isnull()\n",
    "    df_ismoon.replace(True, 1, inplace=True)\n",
    "    return df_ismoon\n",
    "\n",
    "def calc_System_Thermal_Mean(df):\n",
    "    \"\"\"Calculate mean star-system thermal\"\"\"\n",
    "    \"\"\"It is calculating by the mean 'Thermal' of all planets, not including moons\"\"\"\n",
    "    x = df[df['isMoon'] == 0][['System', 'Thermal']].groupby(['System'])['Thermal'].mean()\n",
    "    x = pd.DataFrame(x)\n",
    "    x.reset_index(inplace=True)\n",
    "    x.columns = ['System', 'ThermalMean']\n",
    "    \n",
    "    return df.merge(x, left_on='System', right_on='System', how='right')\n",
    "    \n",
    "    \n"
   ]
  },
  {
   "cell_type": "code",
   "execution_count": null,
   "metadata": {
    "collapsed": true
   },
   "outputs": [],
   "source": []
  },
  {
   "cell_type": "code",
   "execution_count": null,
   "metadata": {
    "collapsed": true
   },
   "outputs": [],
   "source": []
  },
  {
   "cell_type": "code",
   "execution_count": null,
   "metadata": {
    "collapsed": true
   },
   "outputs": [],
   "source": []
  },
  {
   "cell_type": "code",
   "execution_count": null,
   "metadata": {
    "collapsed": true
   },
   "outputs": [],
   "source": []
  },
  {
   "cell_type": "code",
   "execution_count": null,
   "metadata": {
    "collapsed": true
   },
   "outputs": [],
   "source": []
  }
 ],
 "metadata": {
  "kernelspec": {
   "display_name": "Python 3",
   "language": "python",
   "name": "python3"
  },
  "language_info": {
   "codemirror_mode": {
    "name": "ipython",
    "version": 3
   },
   "file_extension": ".py",
   "mimetype": "text/x-python",
   "name": "python",
   "nbconvert_exporter": "python",
   "pygments_lexer": "ipython3",
   "version": "3.5.4"
  }
 },
 "nbformat": 4,
 "nbformat_minor": 2
}
