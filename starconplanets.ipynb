{
 "cells": [
  {
   "cell_type": "code",
   "execution_count": 1,
   "metadata": {},
   "outputs": [
    {
     "name": "stdout",
     "output_type": "stream",
     "text": [
      "importing Jupyter notebook from analytics_functions.ipynb\n",
      "importing Jupyter notebook from starcon_functions.ipynb\n"
     ]
    }
   ],
   "source": [
    "from IPython.display import display, HTML\n",
    "import pandas as pd\n",
    "from sklearn.model_selection import train_test_split \n",
    "from sklearn.feature_selection import SelectKBest\n",
    "from sklearn.feature_selection import chi2\n",
    "from scipy.stats import wilcoxon, mannwhitneyu, ks_2samp\n",
    "\n",
    "from sklearn.linear_model import LogisticRegression\n",
    "from sklearn.naive_bayes import BernoulliNB \n",
    "from sklearn import datasets\n",
    "from sklearn import metrics\n",
    "from sklearn.metrics import roc_curve, auc\n",
    "from scipy.stats import pearsonr\n",
    "\n",
    "# decision trees\n",
    "from sklearn import tree\n",
    "from sklearn.datasets import make_classification\n",
    "from sklearn.ensemble import ExtraTreesClassifier\n",
    "\n",
    "import matplotlib.pyplot as plt\n",
    "%matplotlib inline\n",
    "plt.rcParams.update({'figure.max_open_warning': 0})\n",
    "import numpy as np\n",
    "import io, os , sys, types\n",
    "import copy\n",
    "\n",
    "import seaborn as sns\n",
    "sns.set(color_codes=True)\n",
    "\n",
    "# importing custom notebooks here\n",
    "import import_ipynb as imppy\n",
    "sys.meta_path.append(imppy.NotebookFinder())\n",
    "from analytics_functions import *\n",
    "from starcon_functions import *\n",
    "from helper_functions import *\n",
    "# import starcon_functions\n",
    "\n",
    "# print in a tabulated pretty manner\n",
    "from tabulate import tabulate"
   ]
  },
  {
   "cell_type": "code",
   "execution_count": 2,
   "metadata": {},
   "outputs": [
    {
     "data": {
      "application/javascript": [
       "IPython.OutputArea.auto_scroll_threshold = 9999;"
      ],
      "text/plain": [
       "<IPython.core.display.Javascript object>"
      ]
     },
     "metadata": {},
     "output_type": "display_data"
    }
   ],
   "source": [
    "%%javascript\n",
    "IPython.OutputArea.auto_scroll_threshold = 9999;"
   ]
  },
  {
   "cell_type": "code",
   "execution_count": 3,
   "metadata": {
    "collapsed": true
   },
   "outputs": [],
   "source": [
    "cwd = os.getcwd()\n",
    "fname_raw = r'dataset\\PlanetDatabase.csv'\n",
    "data_raw = pd.read_csv(fname_raw)\n",
    "data_raw = data_raw[data_raw.Cluster != 'Sol']  # Removing Sol system, since it is irrelevant\n",
    "data_raw.reset_index(inplace=True, drop=True)\n",
    "# data_raw = data_raw.iloc[:,1:].copy(deep=True)\n",
    "fontsz = 14\n",
    "DEBUG = False\n",
    "\n",
    "data_features_calc = data_raw.copy(deep=True)  # operations to produce more features. Subset of these will be used in the model"
   ]
  },
  {
   "cell_type": "code",
   "execution_count": 4,
   "metadata": {
    "scrolled": true
   },
   "outputs": [
    {
     "name": "stdout",
     "output_type": "stream",
     "text": [
      "Number of columns before dummy-variables:\t2\n",
      "Number of columns after dummy-variables:\t9\n"
     ]
    }
   ],
   "source": [
    "col_class = 'MinValue' # Target to predict. Map this column to low, high [0, 1]\n",
    "cols_numeric = ['DistFromStar']\n",
    "\n",
    "data_class = data_features_calc[col_class]\n",
    "data_class_mapped = resource_to_discrete_value(data_class, 450)\n",
    "\n",
    "def createStarSystemKey(df, col_star, col_cluster):\n",
    "    \"\"\"Create a unique system key: Alpha_Centauri, Beta_Brahe, etc.\"\"\"\n",
    "    return df[col_star]+'_'+df[col_cluster]\n",
    "\n",
    "data_features_calc['System'] = createStarSystemKey(data_features_calc, 'Star', 'Cluster')\n",
    "\n",
    "data_features_calc=pd.concat([data_features_calc,\n",
    "                              calc_PlanetNumber_and_isMoon(data_raw,'Planet',['PlanetNumber','isMoon'])], axis=1)\n",
    "\n",
    "data_features_calc = calc_System_Thermal_Mean(data_features_calc)  # creates 'ThermalMean'\n",
    "\n",
    "\"\"\"Convert categorical to dummy variables\"\"\"\n",
    "cols_categoric = ['StarColor', 'StarSize']\n",
    "data_dummies = dummify_variables(data_features_calc[cols_categoric])"
   ]
  },
  {
   "cell_type": "code",
   "execution_count": 11,
   "metadata": {
    "scrolled": true
   },
   "outputs": [],
   "source": [
    "# WRITING FEATURES AND CLASS TO FILE\n",
    "# THIS IS THE INPUT FOR SUBSEQUENT CLASSIFIERS TO WORK ON\n",
    "# --------------------------------------------------------------\n",
    "fname_out = r'dataset/sc2features.csv'\n",
    "cols_to_write = ['DistFromStar', 'PlanetNumber', 'isMoon', 'ThermalMean']\n",
    "data_final = pd.concat([data_dummies, data_features_calc[cols_to_write]], axis=1)\n",
    "data_final['class'] = data_class_mapped\n",
    "data_final.to_csv(fname_out, index=False)"
   ]
  },
  {
   "cell_type": "code",
   "execution_count": null,
   "metadata": {
    "scrolled": false
   },
   "outputs": [],
   "source": []
  },
  {
   "cell_type": "code",
   "execution_count": null,
   "metadata": {
    "collapsed": true
   },
   "outputs": [],
   "source": []
  },
  {
   "cell_type": "code",
   "execution_count": null,
   "metadata": {
    "collapsed": true
   },
   "outputs": [],
   "source": []
  },
  {
   "cell_type": "code",
   "execution_count": null,
   "metadata": {
    "collapsed": true
   },
   "outputs": [],
   "source": []
  },
  {
   "cell_type": "code",
   "execution_count": null,
   "metadata": {},
   "outputs": [],
   "source": [
    "#thr = 4\n",
    "#data_raw[data_raw['Thermal'] > thr]"
   ]
  },
  {
   "cell_type": "code",
   "execution_count": null,
   "metadata": {},
   "outputs": [],
   "source": [
    "# plt.figure(figsize=(13,8))\n",
    "# data_raw['Thermal'].hist(bins=25)\n",
    "# plt.show()\n",
    "\n",
    "# plt.boxplot(data_raw['Thermal'])\n",
    "# plt.show()"
   ]
  },
  {
   "cell_type": "code",
   "execution_count": null,
   "metadata": {
    "collapsed": true
   },
   "outputs": [],
   "source": []
  },
  {
   "cell_type": "code",
   "execution_count": null,
   "metadata": {
    "collapsed": true
   },
   "outputs": [],
   "source": []
  },
  {
   "cell_type": "code",
   "execution_count": null,
   "metadata": {
    "collapsed": true
   },
   "outputs": [],
   "source": []
  },
  {
   "cell_type": "code",
   "execution_count": null,
   "metadata": {
    "collapsed": true
   },
   "outputs": [],
   "source": [
    "\"\"\"Create train and test sets\"\"\"\n",
    "cols_features = data_dummies.columns.values\n",
    "dataset = pd.concat([data_numeric,  data_dummies],axis=1)\n",
    "x_train, y_train, x_test, y_test = train_test_datasets(dataset, data_class_mapped, 0.6, 1013)"
   ]
  },
  {
   "cell_type": "code",
   "execution_count": null,
   "metadata": {
    "collapsed": true
   },
   "outputs": [],
   "source": []
  },
  {
   "cell_type": "code",
   "execution_count": null,
   "metadata": {
    "collapsed": true
   },
   "outputs": [],
   "source": []
  },
  {
   "cell_type": "code",
   "execution_count": null,
   "metadata": {
    "collapsed": true
   },
   "outputs": [],
   "source": []
  },
  {
   "cell_type": "code",
   "execution_count": null,
   "metadata": {
    "collapsed": true
   },
   "outputs": [],
   "source": []
  },
  {
   "cell_type": "code",
   "execution_count": null,
   "metadata": {
    "collapsed": true
   },
   "outputs": [],
   "source": []
  },
  {
   "cell_type": "markdown",
   "metadata": {},
   "source": [
    "### Decision Tree"
   ]
  },
  {
   "cell_type": "code",
   "execution_count": null,
   "metadata": {
    "collapsed": true
   },
   "outputs": [],
   "source": [
    "cols_features = x_train.columns.values\n",
    "\n",
    "md = 5                    # maximum tree depth\n",
    "mf = len(cols_features)    # maximum number of features to consider\n",
    "min_leaf = 10\n",
    "criterion = 'entropy'\n",
    "model = tree.DecisionTreeClassifier(max_depth=md, max_features=mf, criterion=criterion, \n",
    "                                    min_samples_leaf=min_leaf, random_state=1984,\n",
    "                                   class_weight={0.0: 0.3, 1.0: 0.70})\n",
    "\n",
    "clf = model.fit(x_train, y_train)\n",
    "predicted = model.predict(x_test)\n",
    "predicted_prob = model.predict_proba(x_test)[:, 1]"
   ]
  },
  {
   "cell_type": "code",
   "execution_count": null,
   "metadata": {},
   "outputs": [],
   "source": [
    "importance = model.feature_importances_\n",
    "df_importance = pd.DataFrame(data=importance, index=cols_features, columns=['importance'])\n",
    "df_importance = df_importance[df_importance['importance'] != 0]\n",
    "# sort by feature importance\n",
    "df_importance = df_importance.reindex(df_importance['importance'].abs().sort_values(ascending=False).index)\n",
    "display(df_importance)\n",
    "\n",
    "# Visualize the tree\n",
    "write_Tree('dataset', clf, x_train.columns.values) "
   ]
  },
  {
   "cell_type": "code",
   "execution_count": null,
   "metadata": {},
   "outputs": [],
   "source": [
    "fpr, tpr, _ = metrics.roc_curve(np.array(y_test), predicted_prob)\n",
    "auc = metrics.auc(fpr,tpr)\n",
    "print (\"Area-Under-Curve:\", round(auc,4))\n",
    "plot_ROC(fpr,tpr, fontsz, \"Receiver operating characteristic for Decision Tree Model\") "
   ]
  },
  {
   "cell_type": "code",
   "execution_count": null,
   "metadata": {},
   "outputs": [],
   "source": [
    "def_cfm = metrics.confusion_matrix(y_test, predicted) \n",
    "plot_confusion_matrix(def_cfm,['bad', 'good'], \"Default Confusion Matrix\", 0)"
   ]
  },
  {
   "cell_type": "code",
   "execution_count": null,
   "metadata": {
    "collapsed": true
   },
   "outputs": [],
   "source": []
  },
  {
   "cell_type": "markdown",
   "metadata": {},
   "source": [
    "### Naive Bayes"
   ]
  },
  {
   "cell_type": "code",
   "execution_count": null,
   "metadata": {},
   "outputs": [],
   "source": [
    "gnb = BernoulliNB()\n",
    "model = gnb.fit(x_train, y_train)\n",
    "predicted = model.predict(x_test)\n",
    "predicted_prob = model.predict_proba(x_test)[:, 1]\n",
    "\n",
    "model_coefficients = model.coef_[0]\n",
    "df_coeffs = pd.DataFrame(data=model_coefficients, index=cols_features, columns=['coeff'])\n",
    "# sort by coefficients absolute value\n",
    "df_coeffs = df_coeffs.reindex(df_coeffs['coeff'].abs().sort_values(ascending=False).index)\n",
    "display(df_coeffs)"
   ]
  },
  {
   "cell_type": "code",
   "execution_count": null,
   "metadata": {},
   "outputs": [],
   "source": [
    "fpr, tpr, _ = metrics.roc_curve(np.array(y_test), predicted_prob)\n",
    "auc = metrics.auc(fpr,tpr)\n",
    "print (\"Area-Under-Curve:\", round(auc,4))\n",
    "plot_ROC(fpr,tpr, fontsz, 'Receiver operating characteristic for Naive Bayes Model') "
   ]
  },
  {
   "cell_type": "code",
   "execution_count": null,
   "metadata": {},
   "outputs": [],
   "source": [
    "def_cfm = metrics.confusion_matrix(y_test, predicted) \n",
    "plot_confusion_matrix(def_cfm,['bad', 'good'], \"Default Confusion Matrix\", 0)"
   ]
  },
  {
   "cell_type": "code",
   "execution_count": null,
   "metadata": {
    "collapsed": true
   },
   "outputs": [],
   "source": []
  },
  {
   "cell_type": "code",
   "execution_count": null,
   "metadata": {
    "collapsed": true
   },
   "outputs": [],
   "source": []
  },
  {
   "cell_type": "code",
   "execution_count": null,
   "metadata": {
    "collapsed": true
   },
   "outputs": [],
   "source": []
  },
  {
   "cell_type": "code",
   "execution_count": null,
   "metadata": {
    "collapsed": true
   },
   "outputs": [],
   "source": []
  },
  {
   "cell_type": "code",
   "execution_count": null,
   "metadata": {
    "collapsed": true
   },
   "outputs": [],
   "source": []
  },
  {
   "cell_type": "code",
   "execution_count": null,
   "metadata": {
    "collapsed": true
   },
   "outputs": [],
   "source": []
  },
  {
   "cell_type": "code",
   "execution_count": null,
   "metadata": {
    "collapsed": true
   },
   "outputs": [],
   "source": []
  },
  {
   "cell_type": "code",
   "execution_count": null,
   "metadata": {
    "collapsed": true
   },
   "outputs": [],
   "source": []
  },
  {
   "cell_type": "code",
   "execution_count": null,
   "metadata": {
    "collapsed": true
   },
   "outputs": [],
   "source": []
  },
  {
   "cell_type": "code",
   "execution_count": null,
   "metadata": {
    "collapsed": true
   },
   "outputs": [],
   "source": []
  }
 ],
 "metadata": {
  "kernelspec": {
   "display_name": "Python 3",
   "language": "python",
   "name": "python3"
  },
  "language_info": {
   "codemirror_mode": {
    "name": "ipython",
    "version": 3
   },
   "file_extension": ".py",
   "mimetype": "text/x-python",
   "name": "python",
   "nbconvert_exporter": "python",
   "pygments_lexer": "ipython3",
   "version": "3.5.4"
  }
 },
 "nbformat": 4,
 "nbformat_minor": 2
}
