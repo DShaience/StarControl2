{
 "cells": [
  {
   "cell_type": "code",
   "execution_count": null,
   "metadata": {
    "collapsed": true
   },
   "outputs": [],
   "source": [
    "import pandas as pd\n",
    "import io, os , sys, types"
   ]
  },
  {
   "cell_type": "code",
   "execution_count": null,
   "metadata": {},
   "outputs": [],
   "source": [
    "def value_of_roman_letter(ch):\n",
    "    \"\"\"Return the value associated with a single Roman numeral letter.\"\"\"\n",
    "    \"\"\"Doesn't check for validity (e.g., IIIIV for example, is invalid)\"\"\"\n",
    "    letterValues = {\n",
    "        'M': 1000,\n",
    "        'D': 500,\n",
    "        'C': 100,\n",
    "        'L': 50,\n",
    "        'X': 10,\n",
    "        'V': 5,\n",
    "        'I': 1  }\n",
    "    try:\n",
    "        return letterValues[ch.upper()]\n",
    "    except KeyError:\n",
    "        print(\"error: invalid Roman numeral character '{%s}'\\n\" % ch)\n",
    "        sys.exit(1)\n",
    "\n",
    "def int_from_roman_numeral(s):\n",
    "    \"\"\"Return the integer value of the given Roman numeral string.\"\"\"\n",
    "    result = 0\n",
    "    lastValue = sys.maxsize\n",
    "    for ch in s:\n",
    "        value = value_of_roman_letter(ch)\n",
    "        if value > lastValue:\n",
    "            # We've found something like \"IV\" or \"IX\"\n",
    "            # or \"XC\".  Need to undo the addition\n",
    "            # of the previous value, then add\n",
    "            # (value - lastValue) to the result.\n",
    "            result += value - 2 * lastValue\n",
    "        else:\n",
    "            result += value\n",
    "        lastValue = value\n",
    "    return result"
   ]
  },
  {
   "cell_type": "code",
   "execution_count": null,
   "metadata": {},
   "outputs": [],
   "source": []
  },
  {
   "cell_type": "code",
   "execution_count": null,
   "metadata": {
    "collapsed": true
   },
   "outputs": [],
   "source": []
  },
  {
   "cell_type": "code",
   "execution_count": null,
   "metadata": {
    "collapsed": true
   },
   "outputs": [],
   "source": []
  },
  {
   "cell_type": "code",
   "execution_count": null,
   "metadata": {
    "collapsed": true
   },
   "outputs": [],
   "source": []
  },
  {
   "cell_type": "code",
   "execution_count": null,
   "metadata": {
    "collapsed": true
   },
   "outputs": [],
   "source": []
  }
 ],
 "metadata": {
  "kernelspec": {
   "display_name": "Python 3",
   "language": "python",
   "name": "python3"
  },
  "language_info": {
   "codemirror_mode": {
    "name": "ipython",
    "version": 3
   },
   "file_extension": ".py",
   "mimetype": "text/x-python",
   "name": "python",
   "nbconvert_exporter": "python",
   "pygments_lexer": "ipython3",
   "version": "3.5.4"
  }
 },
 "nbformat": 4,
 "nbformat_minor": 2
}
